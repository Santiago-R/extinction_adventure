{
 "cells": [
  {
   "cell_type": "code",
   "execution_count": 1,
   "metadata": {},
   "outputs": [],
   "source": [
    "from dino_info import dino_info\n",
    "import os"
   ]
  },
  {
   "cell_type": "code",
   "execution_count": 2,
   "metadata": {},
   "outputs": [
    {
     "data": {
      "text/plain": [
       "{'desierto', 'hielo', 'jungla', 'volcán'}"
      ]
     },
     "execution_count": 2,
     "metadata": {},
     "output_type": "execute_result"
    }
   ],
   "source": [
    "ecosystems = set()\n",
    "for info in dino_info:\n",
    "    for e in info['ecosystem']:\n",
    "        ecosystems.add(e)\n",
    "\n",
    "ecosystems"
   ]
  },
  {
   "cell_type": "code",
   "execution_count": 3,
   "metadata": {},
   "outputs": [
    {
     "data": {
      "text/plain": [
       "{1, 2, 3, 4, 5, 6, 7}"
      ]
     },
     "execution_count": 3,
     "metadata": {},
     "output_type": "execute_result"
    }
   ],
   "source": [
    "times = set()\n",
    "for info in dino_info:\n",
    "    times.add(info['incubation'])\n",
    "times"
   ]
  },
  {
   "cell_type": "code",
   "execution_count": 4,
   "metadata": {},
   "outputs": [
    {
     "name": "stdout",
     "output_type": "stream",
     "text": [
      "Same? True --> Anquilosaurio, Anquilosaurio\n",
      "Same? True --> Camarasauro, Camarasauro\n",
      "Same? True --> Compsognathus, Compsognathus\n",
      "Same? True --> Diplodocus blanco, Diplodocus blanco\n",
      "Same? True --> Diplodocus rocoso, Diplodocus rocoso\n",
      "Same? True --> Diplodocus verde, Diplodocus verde\n",
      "Same? True --> Edmontosaurio, Edmontosaurio\n",
      "Same? True --> Espinosaurio, Espinosaurio\n",
      "Same? True --> Estegosaurio naranja, Estegosaurio naranja\n",
      "Same? True --> Estegosaurio violeta, Estegosaurio violeta\n",
      "Same? True --> Estiracosaurio, Estiracosaurio\n",
      "Same? True --> Herrerasaurio, Herrerasaurio\n",
      "Same? True --> Huayangosaurio, Huayangosaurio\n",
      "Same? True --> Iguanodón, Iguanodón\n",
      "Same? True --> Maiasaura, Maiasaura\n",
      "Same? True --> Microraptor, Microraptor\n",
      "Same? True --> Minmi, Minmi\n",
      "Same? True --> Paquicefalosaurio, Paquicefalosaurio\n",
      "Same? True --> Paquirrinosaurio, Paquirrinosaurio\n",
      "Same? True --> Parasaurolophus, Parasaurolophus\n",
      "Same? True --> Plesiosaurio, Plesiosaurio\n",
      "Same? True --> Plesiosaurio del oasis, Plesiosaurio del oasis\n",
      "Same? True --> Protoceratops caramelo, Protoceratops caramelo\n",
      "Same? True --> Protoceratops rosita, Protoceratops rosita\n",
      "Same? True --> Pterodáctilo, Pterodáctilo\n",
      "Same? True --> Pterosaurio, Pterosaurio\n",
      "Same? True --> Saurópodo, Saurópodo\n",
      "Same? True --> Tarquia, Tarquia\n",
      "Same? True --> Triceratops, Triceratops\n",
      "Same? True --> Utahraptor, Utahraptor\n",
      "Same? True --> Velociraptor, Velociraptor\n",
      "Same? True --> Velociraptor mini, Velociraptor mini\n"
     ]
    }
   ],
   "source": [
    "files = sorted([file[1:-4] for file in os.listdir('./imgs') if file.endswith(\".png\")])\n",
    "names = sorted([info['name'] for info in dino_info])\n",
    "\n",
    "for file, name in zip(files, names, strict=True):\n",
    "    print(f'Same? {file == name} --> {file}, {name}')"
   ]
  }
 ],
 "metadata": {
  "kernelspec": {
   "display_name": "x",
   "language": "python",
   "name": "python3"
  },
  "language_info": {
   "codemirror_mode": {
    "name": "ipython",
    "version": 3
   },
   "file_extension": ".py",
   "mimetype": "text/x-python",
   "name": "python",
   "nbconvert_exporter": "python",
   "pygments_lexer": "ipython3",
   "version": "3.12.4"
  }
 },
 "nbformat": 4,
 "nbformat_minor": 2
}
