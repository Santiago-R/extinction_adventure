{
 "cells": [
  {
   "cell_type": "code",
   "execution_count": 5,
   "metadata": {},
   "outputs": [],
   "source": [
    "from dino_info import info_list\n",
    "import os"
   ]
  },
  {
   "cell_type": "code",
   "execution_count": 6,
   "metadata": {},
   "outputs": [
    {
     "data": {
      "text/plain": [
       "{'desierto', 'hielo', 'jungla', 'volcán'}"
      ]
     },
     "execution_count": 6,
     "metadata": {},
     "output_type": "execute_result"
    }
   ],
   "source": [
    "ecosystems = set()\n",
    "for info in info_list:\n",
    "    for e in info['ecosystem']:\n",
    "        ecosystems.add(e)\n",
    "\n",
    "ecosystems"
   ]
  },
  {
   "cell_type": "code",
   "execution_count": 7,
   "metadata": {},
   "outputs": [
    {
     "data": {
      "text/plain": [
       "{1, 2, 3, 4, 5, 6, 7}"
      ]
     },
     "execution_count": 7,
     "metadata": {},
     "output_type": "execute_result"
    }
   ],
   "source": [
    "times = set()\n",
    "for info in info_list:\n",
    "    times.add(info['incubation'])\n",
    "times"
   ]
  },
  {
   "cell_type": "code",
   "execution_count": 8,
   "metadata": {},
   "outputs": [
    {
     "name": "stdout",
     "output_type": "stream",
     "text": [
      "Same? True --> Anquilosaurio, Anquilosaurio\n",
      "Same? True --> Camarasauro, Camarasauro\n",
      "Same? False --> Composognathus, Composagnathus\n",
      "Same? True --> Diplodocus blanco, Diplodocus blanco\n",
      "Same? True --> Diplodocus rocoso, Diplodocus rocoso\n",
      "Same? True --> Diplodocus verde, Diplodocus verde\n",
      "Same? True --> Edmontosaurio, Edmontosaurio\n",
      "Same? True --> Espinosaurio, Espinosaurio\n",
      "Same? True --> Estegosaurio naranja, Estegosaurio naranja\n",
      "Same? True --> Estegosaurio violeta, Estegosaurio violeta\n",
      "Same? True --> Estiracosaurio, Estiracosaurio\n",
      "Same? True --> Herrerasaurio, Herrerasaurio\n",
      "Same? True --> Huayangosaurio, Huayangosaurio\n",
      "Same? True --> Iguanodón, Iguanodón\n",
      "Same? True --> Maiasaura, Maiasaura\n",
      "Same? True --> Microraptor, Microraptor\n",
      "Same? True --> Minmi, Minmi\n",
      "Same? True --> Paquicefalosaurio, Paquicefalosaurio\n",
      "Same? True --> Paquirrinosaurio, Paquirrinosaurio\n",
      "Same? True --> Parasaurolophus, Parasaurolophus\n",
      "Same? True --> Plesiosaurio, Plesiosaurio\n",
      "Same? True --> Plesiosaurio del oasis, Plesiosaurio del oasis\n",
      "Same? True --> Protoceratops caramelo, Protoceratops caramelo\n",
      "Same? True --> Protoceratops rosita, Protoceratops rosita\n",
      "Same? True --> Pterodáctilo, Pterodáctilo\n",
      "Same? True --> Pterosaurio, Pterosaurio\n",
      "Same? True --> Saurópodo, Saurópodo\n",
      "Same? True --> Tarquia, Tarquia\n",
      "Same? True --> Triceratops, Triceratops\n",
      "Same? True --> Utahraptor, Utahraptor\n",
      "Same? True --> Velociraptor, Velociraptor\n",
      "Same? True --> Velociraptor mini, Velociraptor mini\n"
     ]
    }
   ],
   "source": [
    "files = sorted([file[1:-4] for file in os.listdir('./imgs') if file.endswith(\".png\")])\n",
    "names = sorted([info['name'] for info in info_list])\n",
    "\n",
    "for file, name in zip(files, names, strict=True):\n",
    "    print(f'Same? {file == name} --> {file}, {name}')"
   ]
  },
  {
   "cell_type": "code",
   "execution_count": 9,
   "metadata": {},
   "outputs": [],
   "source": [
    "from fasthtml.common import *"
   ]
  },
  {
   "cell_type": "code",
   "execution_count": 10,
   "metadata": {},
   "outputs": [],
   "source": [
    "def card_3d(text, bg_img, amt=1):\n",
    "    return Div(\n",
    "        text,\n",
    "        Div(cls='glow'),\n",
    "        Style(\".card {background: url(\"+bg_img+\");}\"),\n",
    "        cls='card',\n",
    "    )\n"
   ]
  },
  {
   "cell_type": "code",
   "execution_count": 11,
   "metadata": {},
   "outputs": [],
   "source": [
    "_css = StyleX('card3d.css')#, background_image=f'url({bg_img})', align='left')\n",
    "_js = ScriptX('card3d.js')"
   ]
  },
  {
   "cell_type": "code",
   "execution_count": 13,
   "metadata": {},
   "outputs": [
    {
     "data": {
      "text/markdown": [
       "```html\n",
       "<div class=\"card\" style=\"background_image: url(Velociraptor mini);\">\n",
       "Velociraptor mini  <div class=\"glow\"></div>\n",
       "</div>\n",
       "\n",
       "```"
      ],
      "text/plain": [
       "div(('Velociraptor mini', div((),{'class': 'glow'})),{'class': 'card', 'style': 'background_image: url(Velociraptor mini);'})"
      ]
     },
     "execution_count": 13,
     "metadata": {},
     "output_type": "execute_result"
    }
   ],
   "source": [
    "card_3d(name, file, amt=2)"
   ]
  }
 ],
 "metadata": {
  "kernelspec": {
   "display_name": "x",
   "language": "python",
   "name": "python3"
  },
  "language_info": {
   "codemirror_mode": {
    "name": "ipython",
    "version": 3
   },
   "file_extension": ".py",
   "mimetype": "text/x-python",
   "name": "python",
   "nbconvert_exporter": "python",
   "pygments_lexer": "ipython3",
   "version": "3.12.4"
  }
 },
 "nbformat": 4,
 "nbformat_minor": 2
}
